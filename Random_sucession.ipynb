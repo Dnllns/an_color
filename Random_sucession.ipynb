{
 "cells": [
  {
   "attachments": {},
   "cell_type": "markdown",
   "metadata": {},
   "source": [
    "Esta función toma un número entero n como entrada y devuelve la suma de los dígitos del producto de los dígitos del número n. Primero, los dígitos del número son convertidos en una lista de enteros utilizando la función map y la función int. Luego, se calcula el producto de los dígitos utilizando la función reduce y la función operator.mul. Finalmente, los dígitos del producto son convertidos en una lista de enteros y se calcula la suma de estos utilizando la función sum.\n"
   ]
  },
  {
   "cell_type": "markdown",
   "metadata": {},
   "source": [
    "\n",
    "No se trata de una sucesión matemática conocida, es una función matemática diseñada para procesar un número entero dado y devolver un valor numérico en particular."
   ]
  },
  {
   "cell_type": "code",
   "execution_count": 18,
   "metadata": {},
   "outputs": [],
   "source": [
    "import operator\n",
    "from functools import reduce\n",
    "\n",
    "def a(n:int):\n",
    "    \"\"\"\n",
    "    Función que toma un número entero n y devuelve la suma de los dígitos del producto de los dígitos del número n.\n",
    "    Params:\n",
    "        n:int, entero del cual se calculará la suma de los dígitos del producto de los dígitos.\n",
    "    Return:\n",
    "        suma de los dígitos del producto de los dígitos del número n.\n",
    "    \"\"\"\n",
    "    # Convertir el número en una lista de dígitos\n",
    "    digits = list(map(int, str(n)))\n",
    "    # Calcular el producto de los dígitos\n",
    "    product = reduce(operator.mul, digits)\n",
    "    # Convertir el producto en una lista de dígitos\n",
    "    product_digits = list(map(int, str(product)))\n",
    "    # Devolver la suma de los dígitos del producto\n",
    "    return sum(product_digits)\n"
   ]
  },
  {
   "cell_type": "code",
   "execution_count": 3,
   "metadata": {},
   "outputs": [],
   "source": [
    "def an_k(n, k):\n",
    "    \"\"\"\n",
    "    Funcion que toma un número entero n y un número entero k y devuelve una lista con los k primeros números de la sucesión.\n",
    "    Params:\n",
    "        n:int, entero del cual se calculará la suma de los dígitos del producto de los dígitos.\n",
    "        k:int, entero que indica la cantidad de números de la sucesión que se devolverán.\n",
    "    Return:\n",
    "        lista con los k primeros números de la sucesión.\n",
    "    \"\"\"\n",
    "    \n",
    "    k_list = []\n",
    "\n",
    "    for i in range(1, k+1):\n",
    "        \n",
    "        an = a(n+i)\n",
    "        k_list.append(an)\n",
    "        \n",
    "    return k_list\n"
   ]
  },
  {
   "cell_type": "code",
   "execution_count": 15,
   "metadata": {},
   "outputs": [
    {
     "name": "stdout",
     "output_type": "stream",
     "text": [
      "a([-1-9]) :\t0\t1\t2\t3\t4\t5\t6\t7\t8\t9\t\n",
      "a([9-19]) :\t0\t1\t2\t3\t4\t5\t6\t7\t8\t9\t\n",
      "a([19-29]) :\t0\t2\t4\t6\t8\t1\t3\t5\t7\t9\t\n",
      "a([29-39]) :\t0\t3\t6\t9\t3\t6\t9\t3\t6\t9\t\n",
      "a([39-49]) :\t0\t4\t8\t3\t7\t2\t6\t10\t5\t9\t\n",
      "a([49-59]) :\t0\t5\t1\t6\t2\t7\t3\t8\t4\t9\t\n",
      "a([59-69]) :\t0\t6\t3\t9\t6\t3\t9\t6\t12\t9\t\n",
      "a([69-79]) :\t0\t7\t5\t3\t10\t8\t6\t13\t11\t9\t\n",
      "a([79-89]) :\t0\t8\t7\t6\t5\t4\t12\t11\t10\t9\t\n",
      "a([89-99]) :\t0\t9\t9\t9\t9\t9\t9\t9\t9\t9\t\n",
      "a([99-109]) :\t0\t0\t0\t0\t0\t0\t0\t0\t0\t0\t\n",
      "a([109-119]) :\t0\t1\t2\t3\t4\t5\t6\t7\t8\t9\t\n",
      "a([119-129]) :\t0\t2\t4\t6\t8\t1\t3\t5\t7\t9\t\n",
      "a([129-139]) :\t0\t3\t6\t9\t3\t6\t9\t3\t6\t9\t\n",
      "a([139-149]) :\t0\t4\t8\t3\t7\t2\t6\t10\t5\t9\t\n",
      "a([149-159]) :\t0\t5\t1\t6\t2\t7\t3\t8\t4\t9\t\n",
      "a([159-169]) :\t0\t6\t3\t9\t6\t3\t9\t6\t12\t9\t\n",
      "a([169-179]) :\t0\t7\t5\t3\t10\t8\t6\t13\t11\t9\t\n",
      "a([179-189]) :\t0\t8\t7\t6\t5\t4\t12\t11\t10\t9\t\n",
      "a([189-199]) :\t0\t9\t9\t9\t9\t9\t9\t9\t9\t9\t\n",
      "a([199-209]) :\t0\t0\t0\t0\t0\t0\t0\t0\t0\t0\t\n",
      "a([209-219]) :\t0\t2\t4\t6\t8\t1\t3\t5\t7\t9\t\n",
      "a([219-229]) :\t0\t4\t8\t3\t7\t2\t6\t10\t5\t9\t\n",
      "a([229-239]) :\t0\t6\t3\t9\t6\t3\t9\t6\t12\t9\t\n",
      "a([239-249]) :\t0\t8\t7\t6\t5\t4\t12\t11\t10\t9\t\n",
      "a([249-259]) :\t0\t1\t2\t3\t4\t5\t6\t7\t8\t9\t\n",
      "a([259-269]) :\t0\t3\t6\t9\t12\t6\t9\t12\t15\t9\t\n",
      "a([269-279]) :\t0\t5\t10\t6\t11\t7\t12\t17\t4\t9\t\n",
      "a([279-289]) :\t0\t7\t5\t12\t10\t8\t15\t4\t11\t9\t\n",
      "a([289-299]) :\t0\t9\t9\t9\t9\t9\t9\t9\t9\t9\t\n",
      "a([299-309]) :\t0\t0\t0\t0\t0\t0\t0\t0\t0\t0\t\n",
      "a([309-319]) :\t0\t3\t6\t9\t3\t6\t9\t3\t6\t9\t\n",
      "a([319-329]) :\t0\t6\t3\t9\t6\t3\t9\t6\t12\t9\t\n",
      "a([329-339]) :\t0\t9\t9\t9\t9\t9\t9\t9\t9\t9\t\n",
      "a([339-349]) :\t0\t3\t6\t9\t12\t6\t9\t12\t15\t9\t\n",
      "a([349-359]) :\t0\t6\t3\t9\t6\t12\t9\t6\t3\t9\t\n",
      "a([359-369]) :\t0\t9\t9\t9\t9\t9\t9\t9\t9\t9\t\n",
      "a([369-379]) :\t0\t3\t6\t9\t12\t6\t9\t12\t15\t18\t\n",
      "a([379-389]) :\t0\t6\t12\t9\t15\t3\t9\t15\t12\t9\t\n",
      "a([389-399]) :\t0\t9\t9\t9\t9\t9\t9\t18\t9\t9\t\n",
      "a([399-409]) :\t0\t0\t0\t0\t0\t0\t0\t0\t0\t0\t\n",
      "a([409-419]) :\t0\t4\t8\t3\t7\t2\t6\t10\t5\t9\t\n",
      "a([419-429]) :\t0\t8\t7\t6\t5\t4\t12\t11\t10\t9\t\n",
      "a([429-439]) :\t0\t3\t6\t9\t12\t6\t9\t12\t15\t9\t\n",
      "a([439-449]) :\t0\t7\t5\t12\t10\t8\t15\t4\t11\t9\t\n",
      "a([449-459]) :\t0\t2\t4\t6\t8\t1\t3\t5\t7\t9\t\n",
      "a([459-469]) :\t0\t6\t12\t9\t15\t3\t9\t15\t12\t9\t\n",
      "a([469-479]) :\t0\t10\t11\t12\t4\t5\t15\t16\t8\t9\t\n",
      "a([479-489]) :\t0\t5\t10\t15\t11\t7\t12\t8\t13\t18\t\n",
      "a([489-499]) :\t0\t9\t9\t9\t9\t9\t9\t9\t18\t9\t\n",
      "a([499-509]) :\t0\t0\t0\t0\t0\t0\t0\t0\t0\t0\t\n",
      "a([509-519]) :\t0\t5\t1\t6\t2\t7\t3\t8\t4\t9\t\n",
      "a([519-529]) :\t0\t1\t2\t3\t4\t5\t6\t7\t8\t9\t\n",
      "a([529-539]) :\t0\t6\t3\t9\t6\t12\t9\t6\t3\t9\t\n",
      "a([539-549]) :\t0\t2\t4\t6\t8\t1\t3\t5\t7\t9\t\n",
      "a([549-559]) :\t0\t7\t5\t12\t1\t8\t6\t13\t2\t9\t\n",
      "a([559-569]) :\t0\t3\t6\t9\t3\t6\t9\t3\t6\t9\t\n",
      "a([569-579]) :\t0\t8\t7\t6\t5\t13\t3\t11\t10\t9\t\n",
      "a([579-589]) :\t0\t4\t8\t3\t7\t2\t6\t10\t5\t9\t\n",
      "a([589-599]) :\t0\t9\t9\t9\t9\t9\t9\t9\t9\t9\t\n",
      "a([599-609]) :\t0\t0\t0\t0\t0\t0\t0\t0\t0\t0\t\n",
      "a([609-619]) :\t0\t6\t3\t9\t6\t3\t9\t6\t12\t9\t\n",
      "a([619-629]) :\t0\t3\t6\t9\t12\t6\t9\t12\t15\t9\t\n",
      "a([629-639]) :\t0\t9\t9\t9\t9\t9\t9\t9\t9\t9\t\n",
      "a([639-649]) :\t0\t6\t12\t9\t15\t3\t9\t15\t12\t9\t\n",
      "a([649-659]) :\t0\t3\t6\t9\t3\t6\t9\t3\t6\t9\t\n",
      "a([659-669]) :\t0\t9\t9\t9\t9\t9\t9\t9\t18\t9\t\n",
      "a([669-679]) :\t0\t6\t12\t9\t15\t3\t9\t15\t12\t18\t\n",
      "a([679-689]) :\t0\t12\t15\t9\t12\t6\t18\t12\t15\t9\t\n",
      "a([689-699]) :\t0\t9\t9\t9\t9\t9\t9\t18\t9\t18\t\n",
      "a([699-709]) :\t0\t0\t0\t0\t0\t0\t0\t0\t0\t0\t\n",
      "a([709-719]) :\t0\t7\t5\t3\t10\t8\t6\t13\t11\t9\t\n",
      "a([719-729]) :\t0\t5\t10\t6\t11\t7\t12\t17\t4\t9\t\n",
      "a([729-739]) :\t0\t3\t6\t9\t12\t6\t9\t12\t15\t18\t\n",
      "a([739-749]) :\t0\t10\t11\t12\t4\t5\t15\t16\t8\t9\t\n",
      "a([749-759]) :\t0\t8\t7\t6\t5\t13\t3\t11\t10\t9\t\n",
      "a([759-769]) :\t0\t6\t12\t9\t15\t3\t9\t15\t12\t18\t\n",
      "a([769-779]) :\t0\t13\t17\t12\t16\t11\t15\t10\t14\t9\t\n",
      "a([779-789]) :\t0\t11\t4\t15\t8\t10\t12\t14\t16\t9\t\n",
      "a([789-799]) :\t0\t9\t9\t18\t9\t9\t18\t9\t9\t18\t\n",
      "a([799-809]) :\t0\t0\t0\t0\t0\t0\t0\t0\t0\t0\t\n",
      "a([809-819]) :\t0\t8\t7\t6\t5\t4\t12\t11\t10\t9\t\n",
      "a([819-829]) :\t0\t7\t5\t12\t10\t8\t15\t4\t11\t9\t\n",
      "a([829-839]) :\t0\t6\t12\t9\t15\t3\t9\t15\t12\t9\t\n",
      "a([839-849]) :\t0\t5\t10\t15\t11\t7\t12\t8\t13\t18\t\n",
      "a([849-859]) :\t0\t4\t8\t3\t7\t2\t6\t10\t5\t9\t\n",
      "a([859-869]) :\t0\t12\t15\t9\t12\t6\t18\t12\t15\t9\t\n",
      "a([869-879]) :\t0\t11\t4\t15\t8\t10\t12\t14\t16\t9\t\n",
      "a([879-889]) :\t0\t10\t11\t12\t13\t5\t15\t16\t8\t18\t\n",
      "a([889-899]) :\t0\t9\t9\t9\t18\t9\t9\t9\t18\t18\t\n",
      "a([899-909]) :\t0\t0\t0\t0\t0\t0\t0\t0\t0\t0\t\n",
      "a([909-919]) :\t0\t9\t9\t9\t9\t9\t9\t9\t9\t9\t\n",
      "a([919-929]) :\t0\t9\t9\t9\t9\t9\t9\t9\t9\t9\t\n",
      "a([929-939]) :\t0\t9\t9\t9\t9\t9\t9\t18\t9\t9\t\n",
      "a([939-949]) :\t0\t9\t9\t9\t9\t9\t9\t9\t18\t9\t\n",
      "a([949-959]) :\t0\t9\t9\t9\t9\t9\t9\t9\t9\t9\t\n",
      "a([959-969]) :\t0\t9\t9\t9\t9\t9\t9\t18\t9\t18\t\n",
      "a([969-979]) :\t0\t9\t9\t18\t9\t9\t18\t9\t9\t18\t\n",
      "a([979-989]) :\t0\t9\t9\t9\t18\t9\t9\t9\t18\t18\t\n",
      "a([989-999]) :\t0\t9\t9\t9\t9\t9\t18\t18\t18\t18\t\n"
     ]
    }
   ],
   "source": [
    "n = -1\n",
    "k = 10\n",
    "n_it = 100\n",
    "\n",
    "for i in range(n_it):\n",
    "    \n",
    "    k_list = an_k(n, k)\n",
    "    print(\"a([\" + str(n) + \"-\" + str(n+k) + \"]) :\\t\", end = \"\")\n",
    "    \n",
    "    for j in range(len(k_list)):\n",
    "        print(k_list[j], end = \"\\t\")\n",
    "    \n",
    "    print()    \n",
    "    n += k\n",
    "   "
   ]
  },
  {
   "cell_type": "code",
   "execution_count": 21,
   "metadata": {},
   "outputs": [
    {
     "ename": "TypeError",
     "evalue": "'list' object is not callable",
     "output_type": "error",
     "traceback": [
      "\u001b[1;31m---------------------------------------------------------------------------\u001b[0m",
      "\u001b[1;31mTypeError\u001b[0m                                 Traceback (most recent call last)",
      "Cell \u001b[1;32mIn[21], line 6\u001b[0m\n\u001b[0;32m      3\u001b[0m an_k10_100 \u001b[39m=\u001b[39m []\n\u001b[0;32m      5\u001b[0m \u001b[39mfor\u001b[39;00m i \u001b[39min\u001b[39;00m \u001b[39mrange\u001b[39m(\u001b[39m1\u001b[39m, \u001b[39m101\u001b[39m):\n\u001b[1;32m----> 6\u001b[0m     k_list \u001b[39m=\u001b[39m an_k(i, k)\n\u001b[0;32m      7\u001b[0m     an_k10_100\u001b[39m.\u001b[39mappend(k_list)\n",
      "Cell \u001b[1;32mIn[3], line 7\u001b[0m, in \u001b[0;36man_k\u001b[1;34m(n, k)\u001b[0m\n\u001b[0;32m      3\u001b[0m k_list \u001b[39m=\u001b[39m []\n\u001b[0;32m      5\u001b[0m \u001b[39mfor\u001b[39;00m i \u001b[39min\u001b[39;00m \u001b[39mrange\u001b[39m(\u001b[39m1\u001b[39m, k\u001b[39m+\u001b[39m\u001b[39m1\u001b[39m):\n\u001b[1;32m----> 7\u001b[0m     an \u001b[39m=\u001b[39m a(n\u001b[39m+\u001b[39;49mi)\n\u001b[0;32m      8\u001b[0m     k_list\u001b[39m.\u001b[39mappend(an)\n\u001b[0;32m     10\u001b[0m \u001b[39mreturn\u001b[39;00m k_list\n",
      "Cell \u001b[1;32mIn[18], line 13\u001b[0m, in \u001b[0;36ma\u001b[1;34m(n)\u001b[0m\n\u001b[0;32m      5\u001b[0m \u001b[39m\u001b[39m\u001b[39m\"\"\"\u001b[39;00m\n\u001b[0;32m      6\u001b[0m \u001b[39mFunción que toma un número entero n y devuelve la suma de los dígitos del producto de los dígitos del número n.\u001b[39;00m\n\u001b[0;32m      7\u001b[0m \u001b[39mParams:\u001b[39;00m\n\u001b[1;32m   (...)\u001b[0m\n\u001b[0;32m     10\u001b[0m \u001b[39m    suma de los dígitos del producto de los dígitos del número n.\u001b[39;00m\n\u001b[0;32m     11\u001b[0m \u001b[39m\"\"\"\u001b[39;00m\n\u001b[0;32m     12\u001b[0m \u001b[39m# Convertir el número en una lista de dígitos\u001b[39;00m\n\u001b[1;32m---> 13\u001b[0m digits \u001b[39m=\u001b[39m \u001b[39mlist\u001b[39;49m(\u001b[39mmap\u001b[39;49m(\u001b[39mint\u001b[39;49m, \u001b[39mstr\u001b[39;49m(n)))\n\u001b[0;32m     14\u001b[0m \u001b[39m# Calcular el producto de los dígitos\u001b[39;00m\n\u001b[0;32m     15\u001b[0m product \u001b[39m=\u001b[39m reduce(operator\u001b[39m.\u001b[39mmul, digits)\n",
      "\u001b[1;31mTypeError\u001b[0m: 'list' object is not callable"
     ]
    }
   ],
   "source": [
    "n = -1\n",
    "k = 10\n",
    "# Obtener la lista de los primeros 100 números de la sucesión\n",
    "an_k10_100 = []\n",
    "\n",
    "for i in range(1, 101):\n",
    "    j = n + k\n",
    "    k_list = an_k(j, k)\n",
    "    an_k10_100.append(k_list)\n",
    "\n"
   ]
  },
  {
   "cell_type": "code",
   "execution_count": 5,
   "metadata": {},
   "outputs": [],
   "source": [
    "def number_to_color(number):\n",
    "    colors = {\n",
    "        0: (255, 0, 0),    # red\n",
    "        1: (0, 255, 0),    # green\n",
    "        2: (0, 0, 255),    # blue\n",
    "        3: (255, 255, 0),  # yellow\n",
    "        4: (255, 0, 255),  # magenta\n",
    "        5: (0, 255, 255),  # cyan\n",
    "        6: (255, 100, 0),  # orange\n",
    "        7: (100, 255, 0),  # lime\n",
    "        8: (0, 255, 100),  # turquoise\n",
    "        9: (255, 0, 100)   # pink\n",
    "    }\n",
    "    return colors[number]\n"
   ]
  },
  {
   "cell_type": "code",
   "execution_count": 9,
   "metadata": {},
   "outputs": [
    {
     "name": "stdout",
     "output_type": "stream",
     "text": [
      "Collecting Pillow\n",
      "  Downloading Pillow-9.4.0-cp39-cp39-win_amd64.whl (2.5 MB)\n",
      "     ---------------------------------------- 2.5/2.5 MB 14.5 MB/s eta 0:00:00\n",
      "Installing collected packages: Pillow\n",
      "Successfully installed Pillow-9.4.0\n"
     ]
    },
    {
     "name": "stderr",
     "output_type": "stream",
     "text": [
      "WARNING: You are using pip version 22.0.4; however, version 22.3.1 is available.\n",
      "You should consider upgrading via the 'C:\\Users\\Casa\\AppData\\Local\\Microsoft\\WindowsApps\\PythonSoftwareFoundation.Python.3.9_qbz5n2kfra8p0\\python.exe -m pip install --upgrade pip' command.\n"
     ]
    }
   ],
   "source": [
    "!pip install Pillow"
   ]
  },
  {
   "cell_type": "code",
   "execution_count": 10,
   "metadata": {},
   "outputs": [],
   "source": [
    "from PIL import Image\n",
    "from IPython.display import display\n",
    "\n",
    "def create_image(data, dimensions):\n",
    "    width, height = dimensions\n",
    "    image = Image.new('RGB', (width, height), (255, 255, 255))\n",
    "    pixels = image.load()\n",
    "    for i, row in enumerate(data):\n",
    "        for j, number in enumerate(row):\n",
    "            pixels[j, i] = number_to_color(number)\n",
    "    return image"
   ]
  },
  {
   "cell_type": "code",
   "execution_count": 12,
   "metadata": {},
   "outputs": [
    {
     "data": {
      "text/plain": [
       "0"
      ]
     },
     "execution_count": 12,
     "metadata": {},
     "output_type": "execute_result"
    }
   ],
   "source": [
    "k_list[0]"
   ]
  },
  {
   "cell_type": "code",
   "execution_count": null,
   "metadata": {},
   "outputs": [],
   "source": [
    "image = create_image(data, dimensions)\n",
    "display(image)"
   ]
  }
 ],
 "metadata": {
  "kernelspec": {
   "display_name": "Python 3",
   "language": "python",
   "name": "python3"
  },
  "language_info": {
   "codemirror_mode": {
    "name": "ipython",
    "version": 3
   },
   "file_extension": ".py",
   "mimetype": "text/x-python",
   "name": "python",
   "nbconvert_exporter": "python",
   "pygments_lexer": "ipython3",
   "version": "3.9.13"
  },
  "orig_nbformat": 4,
  "vscode": {
   "interpreter": {
    "hash": "9f70085582dd5bf811af0f41cc7dbc8ed2d2a02fec0dd8050dfdcdb84b31d4b5"
   }
  }
 },
 "nbformat": 4,
 "nbformat_minor": 2
}
