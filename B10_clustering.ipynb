{
 "cells": [
  {
   "attachments": {},
   "cell_type": "markdown",
   "metadata": {},
   "source": [
    "# Definicion del operador RB"
   ]
  },
  {
   "cell_type": "code",
   "execution_count": 2,
   "metadata": {},
   "outputs": [
    {
     "name": "stdout",
     "output_type": "stream",
     "text": [
      "3\n",
      "6\n"
     ]
    }
   ],
   "source": [
    "\n",
    "# Definimos una funcion para calcular el valor de la reduccion a la base 10\n",
    "\n",
    "def RB(n:int):\n",
    "    while n > 9:\n",
    "        n = sum(int(d) for d in str(n))\n",
    "\n",
    "    return n\n",
    "\n",
    "print(RB(12))\n",
    "print(RB(123))"
   ]
  },
  {
   "attachments": {},
   "cell_type": "markdown",
   "metadata": {},
   "source": [
    "# Definicion de las sucesiones a explorar"
   ]
  },
  {
   "cell_type": "code",
   "execution_count": 25,
   "metadata": {},
   "outputs": [],
   "source": [
    "import operator\n",
    "from functools import reduce\n",
    "\n",
    "def n_producto(n:int):\n",
    "    \"\"\"\n",
    "    Función que toma un número entero n y devuelve la suma de los dígitos del producto de los dígitos del número n.\n",
    "    \n",
    "    Params:\n",
    "        n:int, entero del cual se calculará la suma de los dígitos del producto de los dígitos.\n",
    "\n",
    "    Return:\n",
    "        suma de los dígitos del producto de los dígitos del número n.\n",
    "    \"\"\"\n",
    "    # Convertir el número en una lista de dígitos\n",
    "    digits = list(map(int, str(n)))\n",
    "    # Calcular el producto de los dígitos\n",
    "    product = reduce(operator.mul, digits)\n",
    "    # Convertir el producto en una lista de dígitos\n",
    "    product_digits = list(map(int, str(product)))\n",
    "    \n",
    "    # Devolver la suma de los dígitos del producto\n",
    "    a_n = sum(product_digits)\n",
    "    return RB(a_n)\n",
    "\n",
    "def n_cifras_cuadrado(n:int):\n",
    "    \"\"\"\n",
    "    Función que toma un número entero n lo eleva al cuadrado y devuelve la suma de los dígitos del número n.\n",
    "    \n",
    "    Params:\n",
    "        n:int, entero del cual se calculará la suma de los dígitos del producto de los dígitos.\n",
    "\n",
    "    Return:\n",
    "        suma de los dígitos del número n.\n",
    "    \"\"\"\n",
    "    # Convertir el número en una lista de dígitos\n",
    "    digits = list(map(int, str(n)))\n",
    "\n",
    "    # Elevar cada dígito al cuadrado\n",
    "    digits = [d**2 for d in digits]\n",
    "    \n",
    "    # Devolver la suma de los dígitos del producto\n",
    "    a_n = sum(digits)\n",
    "    return RB(a_n)\n",
    "\n",
    "def n_primo(n: int):\n",
    "    \"\"\"\n",
    "    Función que toma un número entero n y devuelve el n-ésimo número primo. aplica el operador de reducción a la base 10.\n",
    "\n",
    "    Params:\n",
    "        n: int, entero del cual se calculará el n-ésimo número primo.\n",
    "\n",
    "    Return:\n",
    "        n-ésimo número primo con reducción a la base 10.\n",
    "    \"\"\"\n",
    "\n",
    "    if n == 1:\n",
    "        return 2\n",
    "    if n == 2:\n",
    "        return 3\n",
    "    if n == 3:\n",
    "        return 5\n",
    "    if n == 4:\n",
    "        return 7\n",
    "    if n == 5:\n",
    "        return 2 # 11\n",
    "    if n == 6:\n",
    "        return 4 # 13   \n",
    "\n",
    "    primes = [2, 3, 5, 7, 11, 13]  # los primeros 6 primos\n",
    "    num = 14  # siguiente número a evaluar\n",
    "    prime_count = 6  # contador de números primos encontrados\n",
    "\n",
    "    while prime_count < n:\n",
    "        for p in primes:\n",
    "            if num % p == 0:\n",
    "                break\n",
    "        else:\n",
    "            prime_count += 1\n",
    "            if prime_count == n:\n",
    "                return RB(num)\n",
    "        num += 1\n",
    "\n",
    "\n",
    "def n_catalan(n):\n",
    "    if n <= 0:\n",
    "        return 0\n",
    "    elif n == 1:\n",
    "        return 1\n",
    "    else:\n",
    "        res = 0\n",
    "        for i in range(n):\n",
    "            res += n_catalan(i) * n_catalan(n-i-1)\n",
    "        return RB(res)\n",
    "\n",
    "\n",
    "def n_fibonacci(n):\n",
    "    return RB(fibonacci(n))\n",
    "\n",
    "def fibonacci(n):\n",
    "    if n <= 0:\n",
    "        return 0\n",
    "    elif n == 1:\n",
    "        return 1\n",
    "    else:\n",
    "        return fibonacci(n-1) + fibonacci(n-2)\n"
   ]
  },
  {
   "cell_type": "code",
   "execution_count": 96,
   "metadata": {},
   "outputs": [
    {
     "name": "stdout",
     "output_type": "stream",
     "text": [
      "n_primo(1) -> 2, n_primo(2) -> 3, n_primo(3) -> 5, n_primo(4) -> 7, n_primo(5) -> 11, n_primo(6) -> 13, n_primo(7) -> 17, n_primo(8) -> 19, n_primo(9) -> 23, "
     ]
    }
   ],
   "source": [
    "# Testeamos la función de los primos\n",
    "\n",
    "for i in range(1, 10):\n",
    "    print(\"n_primo(\" + str(i) + \") ->\", n_primo(i), end=\", \")"
   ]
  },
  {
   "attachments": {},
   "cell_type": "markdown",
   "metadata": {},
   "source": [
    "Optimizacion de la de los numeros primos:"
   ]
  },
  {
   "attachments": {},
   "cell_type": "markdown",
   "metadata": {},
   "source": [
    "## Definir una funcion para calcular los n primeros de una sucesion"
   ]
  },
  {
   "cell_type": "code",
   "execution_count": 4,
   "metadata": {},
   "outputs": [],
   "source": [
    "def an_k(a, n, k):\n",
    "    \"\"\"\n",
    "    Funcion que toma un número entero n y un número entero k y devuelve una lista con los k primeros números de la sucesión.\n",
    "\n",
    "    Params:\n",
    "        n:int, entero del cual se calculará la suma de los dígitos del producto de los dígitos.\n",
    "        k:int, entero que indica la cantidad de números de la sucesión que se devolverán.\n",
    "        \n",
    "    Return:\n",
    "        lista con los k primeros números de la sucesión.\n",
    "    \"\"\"\n",
    "    \n",
    "    k_list = []\n",
    "\n",
    "    for i in range(1, k+1):\n",
    "        \n",
    "        an = a(n+i)\n",
    "        k_list.append(an)\n",
    "        \n",
    "    return k_list\n"
   ]
  },
  {
   "attachments": {},
   "cell_type": "markdown",
   "metadata": {},
   "source": [
    "# Crear los clusters de slices"
   ]
  },
  {
   "cell_type": "code",
   "execution_count": 3,
   "metadata": {},
   "outputs": [],
   "source": [
    "\n",
    "def build_cluster(a, n_i, w, h):\n",
    "    \"\"\"\n",
    "    Funcion que toma un número entero n_i, un ancho w y un alto h y devuelve una lista de listas con los números de la sucesión.\n",
    "\n",
    "    Params:\n",
    "        a:función, función que calcula los números de la sucesión.\n",
    "        n_i:int, entero del cual se calculará la suma de los dígitos del producto de los dígitos.\n",
    "        w:int, ancho\n",
    "        h:int, alto\n",
    "\n",
    "    Return:\n",
    "        lista de listas con los números de la sucesión.\n",
    "\n",
    "    \"\"\" \n",
    "\n",
    "    data_list = []\n",
    "    for i in range(h):\n",
    "        k_list = an_k(a, n_i, w)\n",
    "        data_list.append(k_list)\n",
    "        n_i += w\n",
    "\n",
    "    return data_list\n",
    "\n",
    "\n",
    "   "
   ]
  },
  {
   "attachments": {},
   "cell_type": "markdown",
   "metadata": {},
   "source": [
    "Probamos la funcion:\n",
    "\n",
    "\n",
    "- Creamos un cluster de 10x10"
   ]
  },
  {
   "cell_type": "code",
   "execution_count": 30,
   "metadata": {},
   "outputs": [
    {
     "data": {
      "text/plain": [
       "[[1, 2, 3, 4, 5, 6, 7, 8, 9, 0],\n",
       " [1, 2, 3, 4, 5, 6, 7, 8, 9, 0],\n",
       " [2, 4, 6, 8, 1, 3, 5, 7, 9, 0],\n",
       " [3, 6, 9, 3, 6, 9, 3, 6, 9, 0],\n",
       " [4, 8, 3, 7, 2, 6, 1, 5, 9, 0],\n",
       " [5, 1, 6, 2, 7, 3, 8, 4, 9, 0],\n",
       " [6, 3, 9, 6, 3, 9, 6, 3, 9, 0],\n",
       " [7, 5, 3, 1, 8, 6, 4, 2, 9, 0],\n",
       " [8, 7, 6, 5, 4, 3, 2, 1, 9, 0],\n",
       " [9, 9, 9, 9, 9, 9, 9, 9, 9, 0]]"
      ]
     },
     "execution_count": 30,
     "metadata": {},
     "output_type": "execute_result"
    }
   ],
   "source": [
    "# Configuracion de la sucesion\n",
    "# --------------------------------\n",
    "\n",
    "n_0 = 0                 # Termino inicial de la sucesion\n",
    "w = 10                  # Ancho del cluster\n",
    "h = 10                  # Alto del cluster\n",
    "\n",
    "# --------------------------------\n",
    "\n",
    "build_cluster(n_producto, n_0, w, h)"
   ]
  },
  {
   "attachments": {},
   "cell_type": "markdown",
   "metadata": {},
   "source": [
    "Una vez visto como podemos crear clusters, podemos crear una matiz de clusters, considerando cada cluster un elemento, de esta forma:\n",
    "\n",
    "- Una matriz de clusters de 10x10 estara compuesta por 100 clusters\n",
    "\n",
    "\n",
    "<p><span style=\"color: #00ff00;\"><strong>La visualizacion en matriz de clusters, nos da indicio de que existe cierta simetria para algunas sucesiones cuando aplicamos el operador RB (Reduccion a la Base)</strong> </span></p>"
   ]
  },
  {
   "attachments": {},
   "cell_type": "markdown",
   "metadata": {},
   "source": [
    "Para facilitar el proceso de visualizacion, se procede a codificar con un color cada valor posible (0-9).\n",
    "\n",
    "La implementacion de esta funcionalidad esta basada en crear una lista de clusters del tamaño equivalente a la dimension de matriz deseada (h*w)\n",
    "\n",
    "Cada cluster de la lista se codificara en una imagen de las mismas dimensiones que la matriz, y los clusters se iran concatenando en la imagen de izquierda a derecha y de arriba a abajo. (Notese que esto es experimental y no es ninguna regla, se podria implementar multiples variaciones, lo que daria lugar a simetrias con distinto eje, pero simetrias igualmente)"
   ]
  },
  {
   "cell_type": "code",
   "execution_count": 5,
   "metadata": {},
   "outputs": [],
   "source": [
    "def build_cluster_list(a, n_0: int, w: int, h: int, count: int, offset:int) -> list[list[int]]:\n",
    "    \"\"\"\n",
    "    Funcion que toma un número entero n_0, un número entero count y un número entero offset y devuelve una lista de listas de listas con los números de la sucesión.\n",
    "\n",
    "    Params:\n",
    "        n_0: int, entero del cual se calculará la suma de los dígitos del producto de los dígitos.\n",
    "        count: int, cantidad de clusters\n",
    "        offset: int, offset entre clusters\n",
    "\n",
    "    Return:\n",
    "        lista de listas de listas con los números de la sucesión.\n",
    "\n",
    "    \"\"\" \n",
    "\n",
    "    clusters = []\n",
    "    for i in range(count):\n",
    "\n",
    "        data_list = build_cluster(a, n_0, w, h)\n",
    "        clusters.append(data_list)\n",
    "        n_0 += offset\n",
    "\n",
    "    return clusters\n"
   ]
  },
  {
   "attachments": {},
   "cell_type": "markdown",
   "metadata": {},
   "source": [
    "Crear lista de 100 clusters:\n",
    "\n",
    "\n",
    "- Como termino inicial de la sucesion, definimos n_0\n",
    "- Como ancho de cluster w\n",
    "- Como alto de cluster h\n",
    "\n"
   ]
  },
  {
   "cell_type": "code",
   "execution_count": 62,
   "metadata": {},
   "outputs": [],
   "source": [
    "# Configuracion de la sucesion deseada\n",
    "# --------------------------------\n",
    "\n",
    "a = n_producto          # Funcion que calcula los numeros de la sucesion\n",
    "n_0 = 0                 # Termino inicial de la sucesion\n",
    "\n",
    "# Configuracion de los clusters\n",
    "# --------------------------------\n",
    "w = 10                  # Ancho del cluster\n",
    "h = 10                  # Alto del cluster\n",
    "\n",
    "# Configuracion de la matriz de clusters deseada\n",
    "m_w = 10                # Ancho de la matriz de clusters\n",
    "m_h = 10                # Alto de la matriz de clusters\n",
    "offset = h*w            # Offset entre clusters (distancia entre clusters)\n",
    "\n",
    "# Configuracion de la lista de clusters\n",
    "# --------------------------------\n",
    "cluster_count = m_w * m_h\n",
    "\n",
    "\n",
    "# Obtenemos la lista de clusters\n",
    "# --------------------------------\n",
    "clusters = build_cluster_list(a, n_0, w, h, cluster_count, offset)"
   ]
  },
  {
   "cell_type": "code",
   "execution_count": 65,
   "metadata": {},
   "outputs": [
    {
     "data": {
      "text/plain": [
       "[[0, 0, 0, 0, 0, 0, 0, 0, 0, 0],\n",
       " [0, 0, 0, 0, 0, 0, 0, 0, 0, 0],\n",
       " [0, 0, 0, 0, 0, 0, 0, 0, 0, 0],\n",
       " [0, 0, 0, 0, 0, 0, 0, 0, 0, 0],\n",
       " [0, 0, 0, 0, 0, 0, 0, 0, 0, 0],\n",
       " [0, 0, 0, 0, 0, 0, 0, 0, 0, 0],\n",
       " [0, 0, 0, 0, 0, 0, 0, 0, 0, 0],\n",
       " [0, 0, 0, 0, 0, 0, 0, 0, 0, 0],\n",
       " [0, 0, 0, 0, 0, 0, 0, 0, 0, 0],\n",
       " [0, 0, 0, 0, 0, 0, 0, 0, 0, 0]]"
      ]
     },
     "execution_count": 65,
     "metadata": {},
     "output_type": "execute_result"
    }
   ],
   "source": [
    "clusters[9]"
   ]
  },
  {
   "cell_type": "code",
   "execution_count": 36,
   "metadata": {},
   "outputs": [
    {
     "name": "stdout",
     "output_type": "stream",
     "text": [
      "Numero de clusters:  100\n",
      "Numero de filas por cluster:  10\n",
      "Numero de columnas por cluster:  10\n"
     ]
    }
   ],
   "source": [
    "print(\"Numero de clusters: \", len(clusters))\n",
    "print(\"Numero de filas por cluster: \", len(clusters[0]))\n",
    "print(\"Numero de columnas por cluster: \", len(clusters[0][0]))"
   ]
  },
  {
   "cell_type": "code",
   "execution_count": 37,
   "metadata": {},
   "outputs": [
    {
     "data": {
      "text/plain": [
       "[[0, 0, 0, 0, 0, 0, 0, 0, 0, 0],\n",
       " [1, 2, 3, 4, 5, 6, 7, 8, 9, 0],\n",
       " [2, 4, 6, 8, 1, 3, 5, 7, 9, 0],\n",
       " [3, 6, 9, 3, 6, 9, 3, 6, 9, 0],\n",
       " [4, 8, 3, 7, 2, 6, 1, 5, 9, 0],\n",
       " [5, 1, 6, 2, 7, 3, 8, 4, 9, 0],\n",
       " [6, 3, 9, 6, 3, 9, 6, 3, 9, 0],\n",
       " [7, 5, 3, 1, 8, 6, 4, 2, 9, 0],\n",
       " [8, 7, 6, 5, 4, 3, 2, 1, 9, 0],\n",
       " [9, 9, 9, 9, 9, 9, 9, 9, 9, 0]]"
      ]
     },
     "execution_count": 37,
     "metadata": {},
     "output_type": "execute_result"
    }
   ],
   "source": [
    "clusters[0]"
   ]
  },
  {
   "cell_type": "code",
   "execution_count": 10,
   "metadata": {},
   "outputs": [
    {
     "data": {
      "text/plain": [
       "[[5, 8, 4, 2, 2, 4, 8, 5, 4, 5],\n",
       " [6, 9, 5, 3, 3, 5, 9, 6, 5, 8],\n",
       " [9, 3, 8, 6, 6, 8, 3, 9, 8, 4],\n",
       " [5, 8, 4, 2, 2, 4, 8, 5, 4, 2],\n",
       " [3, 6, 2, 9, 9, 2, 6, 3, 2, 2],\n",
       " [3, 6, 2, 9, 9, 2, 6, 3, 2, 4],\n",
       " [5, 8, 4, 2, 2, 4, 8, 5, 4, 8],\n",
       " [9, 3, 8, 6, 6, 8, 3, 9, 8, 5],\n",
       " [6, 9, 5, 3, 3, 5, 9, 6, 5, 4],\n",
       " [5, 8, 4, 2, 2, 4, 8, 5, 4, 9]]"
      ]
     },
     "execution_count": 10,
     "metadata": {},
     "output_type": "execute_result"
    }
   ],
   "source": [
    "clusters[1]"
   ]
  },
  {
   "attachments": {},
   "cell_type": "markdown",
   "metadata": {},
   "source": [
    "# Representar graficamente"
   ]
  },
  {
   "cell_type": "code",
   "execution_count": 6,
   "metadata": {},
   "outputs": [],
   "source": [
    "# def number_to_color(number):\n",
    "#     colors = {\n",
    "        \n",
    "#         0: (0, 0, 0),        # black\n",
    "#         1: (255, 0, 0),      # red\n",
    "#         2: (255, 0, 100),    # orange\n",
    "#         3: (255, 100, 100),  # yellow\n",
    "#         4: (0, 255, 0),      # green\n",
    "#         5: (0, 255, 100),    # lime\n",
    "#         6: (100, 255, 100),  # turquoise\n",
    "#         7: (0, 0, 255),      # blue\n",
    "#         8: (0, 100, 255),    # purple\n",
    "#         9: (100, 100, 255)   # cyan\n",
    "\n",
    "#     }\n",
    "#     return colors[number]\n",
    "\n",
    "\n",
    "def number_to_gray(number):\n",
    "    gray = int((255/9) * number)\n",
    "    return (gray, gray, gray)\n",
    "\n",
    "\n",
    "def number_to_color(number):\n",
    "    colors = {\n",
    "        1: (255, 0, 0),      # red\n",
    "        2: (255, 128, 0),    # orange\n",
    "        3: (255, 255, 0),    # yellow\n",
    "        4: (0, 255, 0),      # green\n",
    "        5: (0, 255, 255),    # cyan\n",
    "        6: (0, 0, 255),      # blue\n",
    "        7: (128, 0, 255),    # purple\n",
    "        8: (255, 0, 255),    # magenta\n",
    "        9: (255, 255, 255),  # white\n",
    "        0: (0, 0, 0)         # black\n",
    "    }\n",
    "    return colors[number]\n",
    "\n"
   ]
  },
  {
   "cell_type": "code",
   "execution_count": 12,
   "metadata": {},
   "outputs": [
    {
     "name": "stdout",
     "output_type": "stream",
     "text": [
      "Defaulting to user installation because normal site-packages is not writeable\n",
      "Requirement already satisfied: Pillow in /opt/anaconda3/lib/python3.9/site-packages (9.2.0)\n"
     ]
    }
   ],
   "source": [
    "%pip install Pillow"
   ]
  },
  {
   "cell_type": "code",
   "execution_count": 7,
   "metadata": {},
   "outputs": [],
   "source": [
    "from PIL import Image\n",
    "from IPython.display import display\n",
    "\n",
    "def create_image(data, dimensions, scale=1, paint_function=number_to_color):\n",
    "    width, height = dimensions\n",
    "    image = Image.new('RGB', (width*scale, height*scale), (255, 255, 255))\n",
    "    pixels = image.load()\n",
    "    for i, row in enumerate(data):\n",
    "        for j, number in enumerate(row):\n",
    "            color = paint_function(number)\n",
    "            for x in range(scale):\n",
    "                for y in range(scale):\n",
    "                    pixels[j*scale+x, i*scale+y] = color\n",
    "    return image"
   ]
  },
  {
   "attachments": {},
   "cell_type": "markdown",
   "metadata": {},
   "source": [
    "### Ejemplo de funcionamiento"
   ]
  },
  {
   "cell_type": "code",
   "execution_count": 82,
   "metadata": {},
   "outputs": [
    {
     "name": "stdout",
     "output_type": "stream",
     "text": [
      "Dimensions: (10, 10)\n"
     ]
    },
    {
     "data": {
      "image/png": "[encoded data removed]",
      "text/plain": [
       "<PIL.Image.Image image mode=RGB size=100x100>"
      ]
     },
     "metadata": {},
     "output_type": "display_data"
    }
   ],
   "source": [
    "w = len(clusters[0][0])\n",
    "h = len(clusters[0])\n",
    "\n",
    "dim = (w, h)\n",
    "print(\"Dimensions:\", dim)\n",
    "\n",
    "image = create_image(clusters[0], dim, scale=10)\n",
    "display(image)"
   ]
  },
  {
   "cell_type": "code",
   "execution_count": 83,
   "metadata": {},
   "outputs": [
    {
     "data": {
      "image/png": "[encoded data removed]",
      "text/plain": [
       "<PIL.Image.Image image mode=RGB size=100x100>"
      ]
     },
     "metadata": {},
     "output_type": "display_data"
    }
   ],
   "source": [
    "image = create_image(clusters[0], dim, scale=10, paint_function=number_to_gray)\n",
    "display(image)"
   ]
  },
  {
   "cell_type": "code",
   "execution_count": 84,
   "metadata": {},
   "outputs": [
    {
     "data": {
      "image/png": "[encoded data removed]",
      "text/plain": [
       "<PIL.Image.Image image mode=RGB size=100x100>"
      ]
     },
     "metadata": {},
     "output_type": "display_data"
    }
   ],
   "source": [
    "image = create_image(clusters[3], dim, scale=10)\n",
    "display(image)"
   ]
  },
  {
   "cell_type": "code",
   "execution_count": 8,
   "metadata": {},
   "outputs": [],
   "source": [
    "def build_cluster_matrix(clusters_wide, clusters_high, clusters):\n",
    "    cluster_matrix = []\n",
    "    for i in range(clusters_high):\n",
    "        row = []\n",
    "        for j in range(clusters_wide):\n",
    "            row.append(clusters[i*clusters_wide + j])\n",
    "        cluster_matrix.append(row)\n",
    "    return cluster_matrix"
   ]
  },
  {
   "cell_type": "code",
   "execution_count": 9,
   "metadata": {},
   "outputs": [],
   "source": [
    "# Creamos una imagen global a partir de la lista de sublistas de clusters\n",
    "# ----------------------------------------------------------------------\n",
    "\n",
    "def create_global_image(cluster_matrix, scale=1, paint_function=number_to_color):\n",
    "\n",
    "    w = len(cluster_matrix[0][0][0])\n",
    "    h = len(cluster_matrix[0][0])\n",
    "\n",
    "    width = w * len(cluster_matrix[0])\n",
    "    height = h * len(cluster_matrix)\n",
    "\n",
    "    image = Image.new('RGB', (width*scale, height*scale), (255, 255, 255))\n",
    "    pixels = image.load()\n",
    "\n",
    "    for i, row in enumerate(cluster_matrix):\n",
    "        for j, cluster in enumerate(row):\n",
    "            for x, row in enumerate(cluster):\n",
    "                for y, number in enumerate(row):\n",
    "                    color = paint_function(number)\n",
    "                    for a in range(scale):\n",
    "                        for b in range(scale):\n",
    "                            pixels[j*w*scale+y*scale+b, i*h*scale+x*scale+a] = color\n",
    "\n",
    "    return image\n"
   ]
  },
  {
   "cell_type": "code",
   "execution_count": 80,
   "metadata": {},
   "outputs": [
    {
     "data": {
      "image/png": "[encoded data removed]",
      "text/plain": [
       "<PIL.Image.Image image mode=RGB size=400x400>"
      ]
     },
     "execution_count": 80,
     "metadata": {},
     "output_type": "execute_result"
    }
   ],
   "source": [
    "# Configuracion de la sucesion deseada\n",
    "# --------------------------------\n",
    "\n",
    "a = n_producto          # Funcion que calcula los numeros de la sucesion\n",
    "n_0 = 0                 # Termino inicial de la sucesion\n",
    "\n",
    "# Configuracion de los clusters\n",
    "# --------------------------------\n",
    "w = 10                  # Ancho del cluster\n",
    "h = 10                  # Alto del cluster\n",
    "\n",
    "# Configuracion de la matriz de clusters deseada\n",
    "m_w = 10                # Ancho de la matriz de clusters\n",
    "m_h = 10                # Alto de la matriz de clusters\n",
    "offset = w*h            # Offset entre clusters (distancia entre clusters)\n",
    "\n",
    "# Configuracion de la lista de clusters\n",
    "# --------------------------------\n",
    "cluster_count = m_w * m_h\n",
    "\n",
    "\n",
    "# Obtenemos la lista de clusters\n",
    "# --------------------------------\n",
    "clusters = build_cluster_list(a, n_0, w, h, cluster_count, offset)\n",
    "\n",
    "# Creamos la matriz de clusters\n",
    "cluster_matrix = build_cluster_matrix(m_w, m_h, clusters)\n",
    "\n",
    "# Imagen global\n",
    "create_global_image(\n",
    "    cluster_matrix, \n",
    "    scale=4,\n",
    "    paint_function=number_to_color\n",
    ")"
   ]
  },
  {
   "cell_type": "code",
   "execution_count": 87,
   "metadata": {},
   "outputs": [
    {
     "data": {
      "image/png": "[encoded data removed]",
      "text/plain": [
       "<PIL.Image.Image image mode=RGB size=1000x1000>"
      ]
     },
     "execution_count": 87,
     "metadata": {},
     "output_type": "execute_result"
    }
   ],
   "source": [
    "# Configuracion de la sucesion deseada\n",
    "# --------------------------------\n",
    "\n",
    "a = n_producto          # Funcion que calcula los numeros de la sucesion\n",
    "n_0 = 0                 # Termino inicial de la sucesion\n",
    "\n",
    "# Configuracion de los clusters\n",
    "# --------------------------------\n",
    "w = 10                  # Ancho del cluster\n",
    "h = 10                  # Alto del cluster\n",
    "\n",
    "# Configuracion de la matriz de clusters deseada\n",
    "m_w = 100                # Ancho de la matriz de clusters\n",
    "m_h = 100                # Alto de la matriz de clusters\n",
    "offset = w*h            # Offset entre clusters (distancia entre clusters)\n",
    "\n",
    "# Configuracion de la lista de clusters\n",
    "# --------------------------------\n",
    "cluster_count = m_w * m_h\n",
    "\n",
    "\n",
    "# Obtenemos la lista de clusters\n",
    "# --------------------------------\n",
    "clusters = build_cluster_list(a, n_0, w, h, cluster_count, offset)\n",
    "\n",
    "# Creamos la matriz de clusters\n",
    "cluster_matrix = build_cluster_matrix(m_w, m_h, clusters)\n",
    "\n",
    "# Imagen global\n",
    "create_global_image(\n",
    "    cluster_matrix, \n",
    "    scale=1,\n",
    "    paint_function=number_to_color\n",
    ")"
   ]
  },
  {
   "attachments": {},
   "cell_type": "markdown",
   "metadata": {},
   "source": [
    "Podemos facilitar este proceso mediante la implemntacion de ese codigo en una funcion:"
   ]
  },
  {
   "cell_type": "code",
   "execution_count": 10,
   "metadata": {},
   "outputs": [],
   "source": [
    "def build_cluster_matrix_image(a, n_0, w, h, m_w, m_h, scale, paint_function):\n",
    "    offset = w*h\n",
    "    cluster_count = m_w * m_h\n",
    "    clusters = build_cluster_list(a, n_0, w, h, cluster_count, offset)\n",
    "    cluster_matrix = build_cluster_matrix(m_w, m_h, clusters)\n",
    "    return create_global_image(cluster_matrix, scale, paint_function)\n"
   ]
  },
  {
   "attachments": {},
   "cell_type": "markdown",
   "metadata": {},
   "source": [
    "### Sucesion de n_producto"
   ]
  },
  {
   "cell_type": "code",
   "execution_count": 11,
   "metadata": {},
   "outputs": [
    {
     "data": {
      "image/png": "[encoded data removed]",
      "text/plain": [
       "<PIL.Image.Image image mode=RGB size=400x400>"
      ]
     },
     "execution_count": 11,
     "metadata": {},
     "output_type": "execute_result"
    }
   ],
   "source": [
    "build_cluster_matrix_image(\n",
    "    n_producto,     # Funcion que calcula los numeros de la sucesion\n",
    "    0,              # Termino inicial de la sucesion\n",
    "    10, 10,         # Ancho y alto del cluster\n",
    "    10, 10,         # Ancho y alto de la matriz de clusters\n",
    "    4,              # Escala de la imagen  4 = 1 pixel * 4 -> 1 pixel se expande en 4 pixeles\n",
    "    number_to_color # Funcion que asigna un color a cada numero\n",
    ")"
   ]
  },
  {
   "cell_type": "code",
   "execution_count": 145,
   "metadata": {},
   "outputs": [
    {
     "data": {
      "image/png": "[encoded data removed]",
      "text/plain": [
       "<PIL.Image.Image image mode=RGB size=400x400>"
      ]
     },
     "execution_count": 145,
     "metadata": {},
     "output_type": "execute_result"
    }
   ],
   "source": [
    "build_cluster_matrix_image(\n",
    "    n_producto,     # Funcion que calcula los numeros de la sucesion\n",
    "    0,              # Termino inicial de la sucesion\n",
    "    10, 10,         # Ancho y alto del cluster\n",
    "    10, 10,         # Ancho y alto de la matriz de clusters\n",
    "    4,              # Escala de la imagen  4 = 1 pixel * 4 -> 1 pixel se expande en 4 pixeles\n",
    "    number_to_gray # Funcion que asigna un color a cada numero\n",
    ")"
   ]
  },
  {
   "attachments": {},
   "cell_type": "markdown",
   "metadata": {},
   "source": [
    "### Sucesion de n_cifras_cuadrado"
   ]
  },
  {
   "cell_type": "code",
   "execution_count": 130,
   "metadata": {},
   "outputs": [
    {
     "data": {
      "image/png": "[encoded data removed]",
      "text/plain": [
       "<PIL.Image.Image image mode=RGB size=400x400>"
      ]
     },
     "execution_count": 130,
     "metadata": {},
     "output_type": "execute_result"
    }
   ],
   "source": [
    "build_cluster_matrix_image(\n",
    "    n_cifras_cuadrado,     # Funcion que calcula los numeros de la sucesion\n",
    "    0,              # Termino inicial de la sucesion\n",
    "    10, 10,         # Ancho y alto del cluster\n",
    "    10, 10,         # Ancho y alto de la matriz de clusters\n",
    "    4,              # Escala de la imagen  4 = 1 pixel * 4 -> 1 pixel se expande en 4 pixeles\n",
    "    number_to_color # Funcion que asigna un color a cada numero\n",
    ")"
   ]
  },
  {
   "attachments": {},
   "cell_type": "markdown",
   "metadata": {},
   "source": [
    "### Sucesion de n_primo"
   ]
  },
  {
   "cell_type": "code",
   "execution_count": 141,
   "metadata": {},
   "outputs": [
    {
     "data": {
      "image/png": "[encoded data removed]",
      "text/plain": [
       "<PIL.Image.Image image mode=RGB size=100x100>"
      ]
     },
     "execution_count": 141,
     "metadata": {},
     "output_type": "execute_result"
    }
   ],
   "source": [
    "build_cluster_matrix_image(\n",
    "    n_primo,      # Funcion que calcula los numeros de la sucesion\n",
    "    0,              # Termino inicial de la sucesion\n",
    "    10, 10,         # Ancho y alto del cluster\n",
    "    1, 1,           # Ancho y alto de la matriz de clusters\n",
    "    10,              # Escala de la imagen  4 = 1 pixel * 4 -> 1 pixel se expande en 4 pixeles\n",
    "    number_to_color # Funcion que asigna un color a cada numero\n",
    ")"
   ]
  },
  {
   "cell_type": "code",
   "execution_count": 142,
   "metadata": {},
   "outputs": [
    {
     "data": {
      "image/png": "[encoded data removed]",
      "text/plain": [
       "<PIL.Image.Image image mode=RGB size=400x40>"
      ]
     },
     "execution_count": 142,
     "metadata": {},
     "output_type": "execute_result"
    }
   ],
   "source": [
    "build_cluster_matrix_image(\n",
    "    n_primo,         # Funcion que calcula los numeros de la sucesion\n",
    "    0,               # Termino inicial de la sucesion\n",
    "    10, 10,          # Ancho y alto del cluster\n",
    "    10, 1,           # Ancho y alto de la matriz de clusters\n",
    "    4,               # Escala de la imagen  4 = 1 pixel * 4 -> 1 pixel se expande en 4 pixeles\n",
    "    number_to_color  # Funcion que asigna un color a cada numero\n",
    ")"
   ]
  },
  {
   "attachments": {},
   "cell_type": "markdown",
   "metadata": {},
   "source": [
    "Vista de los numeros primos clusterizados en matriz 10x10"
   ]
  },
  {
   "cell_type": "code",
   "execution_count": 143,
   "metadata": {},
   "outputs": [
    {
     "data": {
      "image/png": "[encoded data removed]",
      "text/plain": [
       "<PIL.Image.Image image mode=RGB size=400x400>"
      ]
     },
     "execution_count": 143,
     "metadata": {},
     "output_type": "execute_result"
    }
   ],
   "source": [
    "build_cluster_matrix_image(\n",
    "    n_primo,        # Funcion que calcula los numeros de la sucesion\n",
    "    0,              # Termino inicial de la sucesion\n",
    "    10, 10,         # Ancho y alto del cluster\n",
    "    10, 10,         # Ancho y alto de la matriz de clusters\n",
    "    4,              # Escala de la imagen  4 = 1 pixel * 4 -> 1 pixel se expande en 4 pixeles\n",
    "    number_to_color # Funcion que asigna un color a cada numero\n",
    ")"
   ]
  },
  {
   "cell_type": "code",
   "execution_count": 84,
   "metadata": {},
   "outputs": [
    {
     "data": {
      "image/png": "[encoded data removed]",
      "text/plain": [
       "<PIL.Image.Image image mode=RGB size=400x400>"
      ]
     },
     "execution_count": 84,
     "metadata": {},
     "output_type": "execute_result"
    }
   ],
   "source": [
    "build_cluster_matrix_image(\n",
    "    n_primo,        # Funcion que calcula los numeros de la sucesion\n",
    "    0,              # Termino inicial de la sucesion\n",
    "    100, 100,         # Ancho y alto del cluster\n",
    "    1, 1,         # Ancho y alto de la matriz de clusters\n",
    "    4,              # Escala de la imagen  4 = 1 pixel * 4 -> 1 pixel se expande en 4 pixeles\n",
    "    number_to_color # Funcion que asigna un color a cada numero\n",
    ")"
   ]
  },
  {
   "attachments": {},
   "cell_type": "markdown",
   "metadata": {},
   "source": [
    "### Sucesion de fibonacci"
   ]
  },
  {
   "cell_type": "code",
   "execution_count": 38,
   "metadata": {},
   "outputs": [
    {
     "data": {
      "text/html": [
       "<div>\n",
       "<style scoped>\n",
       "    .dataframe tbody tr th:only-of-type {\n",
       "        vertical-align: middle;\n",
       "    }\n",
       "\n",
       "    .dataframe tbody tr th {\n",
       "        vertical-align: top;\n",
       "    }\n",
       "\n",
       "    .dataframe thead th {\n",
       "        text-align: right;\n",
       "    }\n",
       "</style>\n",
       "<table border=\"1\" class=\"dataframe\">\n",
       "  <thead>\n",
       "    <tr style=\"text-align: right;\">\n",
       "      <th></th>\n",
       "      <th>Iteration</th>\n",
       "      <th>Value</th>\n",
       "    </tr>\n",
       "  </thead>\n",
       "  <tbody>\n",
       "    <tr>\n",
       "      <th>0</th>\n",
       "      <td>0</td>\n",
       "      <td>0</td>\n",
       "    </tr>\n",
       "    <tr>\n",
       "      <th>1</th>\n",
       "      <td>1</td>\n",
       "      <td>1</td>\n",
       "    </tr>\n",
       "    <tr>\n",
       "      <th>2</th>\n",
       "      <td>2</td>\n",
       "      <td>1</td>\n",
       "    </tr>\n",
       "    <tr>\n",
       "      <th>3</th>\n",
       "      <td>3</td>\n",
       "      <td>2</td>\n",
       "    </tr>\n",
       "    <tr>\n",
       "      <th>4</th>\n",
       "      <td>4</td>\n",
       "      <td>3</td>\n",
       "    </tr>\n",
       "  </tbody>\n",
       "</table>\n",
       "</div>"
      ],
      "text/plain": [
       "   Iteration Value\n",
       "0          0     0\n",
       "1          1     1\n",
       "2          2     1\n",
       "3          3     2\n",
       "4          4     3"
      ]
     },
     "execution_count": 38,
     "metadata": {},
     "output_type": "execute_result"
    }
   ],
   "source": [
    "# Leer csv de datos de fibonacci\n",
    "import pandas as pd\n",
    "df = pd.read_csv('datasets/fibonacci_sequence.csv')\n",
    "df.head()"
   ]
  },
  {
   "cell_type": "code",
   "execution_count": 46,
   "metadata": {},
   "outputs": [
    {
     "name": "stdout",
     "output_type": "stream",
     "text": [
      "fibonacci(0) =  0\n",
      "fibonacci(1) =  1\n",
      "fibonacci(2) =  1\n",
      "fibonacci(3) =  2\n",
      "fibonacci(23) =  28657\n"
     ]
    }
   ],
   "source": [
    "# Funcion que obtiene fibonacci de n de la lista de datos\n",
    "def fibonacci(n):\n",
    "    return int(df['Value'][n])\n",
    "\n",
    "# Testeamos la funcion\n",
    "print(\"fibonacci(0) = \", fibonacci(0))\n",
    "print(\"fibonacci(1) = \", fibonacci(1))\n",
    "print(\"fibonacci(2) = \", fibonacci(2))\n",
    "print(\"fibonacci(3) = \", fibonacci(3))\n",
    "print(\"fibonacci(23) = \", fibonacci(23))"
   ]
  },
  {
   "cell_type": "code",
   "execution_count": 48,
   "metadata": {},
   "outputs": [
    {
     "name": "stdout",
     "output_type": "stream",
     "text": [
      "n_fibonacci(0) =  0\n",
      "n_fibonacci(1) =  1\n",
      "n_fibonacci(2) =  1\n",
      "n_fibonacci(3) =  2\n",
      "n_fibonacci(23) =  1\n"
     ]
    }
   ],
   "source": [
    "# definimos el operador RB sobre la sucesion de fibonacci\n",
    "def n_fibonacci(n):\n",
    "    return RB(fibonacci(n))\n",
    "\n",
    "# Testeamos la funcion\n",
    "print(\"n_fibonacci(0) = \", n_fibonacci(0))\n",
    "print(\"n_fibonacci(1) = \", n_fibonacci(1))\n",
    "print(\"n_fibonacci(2) = \", n_fibonacci(2))\n",
    "print(\"n_fibonacci(3) = \", n_fibonacci(3))\n",
    "print(\"n_fibonacci(23) = \", n_fibonacci(23))\n",
    "\n"
   ]
  },
  {
   "attachments": {},
   "cell_type": "markdown",
   "metadata": {},
   "source": [
    "Fibonacci visto como una matriz de 10x10 clusters de 10x10 cada uno"
   ]
  },
  {
   "cell_type": "code",
   "execution_count": 58,
   "metadata": {},
   "outputs": [
    {
     "data": {
      "image/png": "[encoded data removed]",
      "text/plain": [
       "<PIL.Image.Image image mode=RGB size=400x400>"
      ]
     },
     "execution_count": 58,
     "metadata": {},
     "output_type": "execute_result"
    }
   ],
   "source": [
    "build_cluster_matrix_image(\n",
    "    n_fibonacci,\n",
    "    0,\n",
    "    10, 10,\n",
    "    10, 10,\n",
    "    4,\n",
    "    number_to_color\n",
    ")"
   ]
  },
  {
   "attachments": {},
   "cell_type": "markdown",
   "metadata": {},
   "source": [
    "Fibonacci visto como una matriz de 1 cluster de 100x100"
   ]
  },
  {
   "cell_type": "code",
   "execution_count": 59,
   "metadata": {},
   "outputs": [
    {
     "data": {
      "image/png": "[encoded data removed]",
      "text/plain": [
       "<PIL.Image.Image image mode=RGB size=400x400>"
      ]
     },
     "execution_count": 59,
     "metadata": {},
     "output_type": "execute_result"
    }
   ],
   "source": [
    "build_cluster_matrix_image(\n",
    "    n_fibonacci,\n",
    "    0,\n",
    "    100, 100,\n",
    "    1, 1,\n",
    "    4,\n",
    "    number_to_color\n",
    ")"
   ]
  },
  {
   "attachments": {},
   "cell_type": "markdown",
   "metadata": {},
   "source": [
    "### Sucesion Pi_Euler (Custom)"
   ]
  },
  {
   "cell_type": "code",
   "execution_count": 80,
   "metadata": {},
   "outputs": [
    {
     "name": "stdout",
     "output_type": "stream",
     "text": [
      "sucesion_pi_euler(0) =  0\n",
      "sucesion_pi_euler(1) =  8\n",
      "sucesion_pi_euler(2) =  17\n",
      "sucesion_pi_euler(3) =  25\n",
      "sucesion_pi_euler(4) =  34\n"
     ]
    }
   ],
   "source": [
    "import math\n",
    "\n",
    "def sucesion_pi_euler(n):\n",
    "    return int(((math.pi)*(math.e))*n)\n",
    "\n",
    "# Testeamos la funcion\n",
    "print(\"sucesion_pi_euler(0) = \", sucesion_pi_euler(0))\n",
    "print(\"sucesion_pi_euler(1) = \", sucesion_pi_euler(1))\n",
    "print(\"sucesion_pi_euler(2) = \", sucesion_pi_euler(2))\n",
    "print(\"sucesion_pi_euler(3) = \", sucesion_pi_euler(3))\n",
    "print(\"sucesion_pi_euler(4) = \", sucesion_pi_euler(4))"
   ]
  },
  {
   "cell_type": "code",
   "execution_count": 81,
   "metadata": {},
   "outputs": [
    {
     "name": "stdout",
     "output_type": "stream",
     "text": [
      "n_sucesion_pi_euler(0) =  0\n",
      "n_sucesion_pi_euler(1) =  8\n",
      "n_sucesion_pi_euler(2) =  8\n",
      "n_sucesion_pi_euler(3) =  7\n",
      "n_sucesion_pi_euler(4) =  7\n"
     ]
    }
   ],
   "source": [
    "def n_sucesion_pi_euler(n):\n",
    "    return RB(sucesion_pi_euler(n))\n",
    "\n",
    "# Testeamos la funcion\n",
    "print(\"n_sucesion_pi_euler(0) = \", n_sucesion_pi_euler(0))\n",
    "print(\"n_sucesion_pi_euler(1) = \", n_sucesion_pi_euler(1))\n",
    "print(\"n_sucesion_pi_euler(2) = \", n_sucesion_pi_euler(2))\n",
    "print(\"n_sucesion_pi_euler(3) = \", n_sucesion_pi_euler(3))\n",
    "print(\"n_sucesion_pi_euler(4) = \", n_sucesion_pi_euler(4))\n"
   ]
  },
  {
   "cell_type": "code",
   "execution_count": 85,
   "metadata": {},
   "outputs": [
    {
     "data": {
      "image/png": "[encoded data removed]",
      "text/plain": [
       "<PIL.Image.Image image mode=RGB size=600x600>"
      ]
     },
     "execution_count": 85,
     "metadata": {},
     "output_type": "execute_result"
    }
   ],
   "source": [
    "# Obtenemos la representacion de imagen de base\n",
    "build_cluster_matrix_image(\n",
    "    n_sucesion_pi_euler,\n",
    "    0,\n",
    "    10, 10,\n",
    "    10, 10,\n",
    "    6,\n",
    "    number_to_color\n",
    ")"
   ]
  },
  {
   "cell_type": "code",
   "execution_count": 86,
   "metadata": {},
   "outputs": [
    {
     "data": {
      "image/png": "[encoded data removed]",
      "text/plain": [
       "<PIL.Image.Image image mode=RGB size=600x600>"
      ]
     },
     "execution_count": 86,
     "metadata": {},
     "output_type": "execute_result"
    }
   ],
   "source": [
    "# Obtenemos la representacion de imagen de base\n",
    "build_cluster_matrix_image(\n",
    "    n_sucesion_pi_euler,\n",
    "    0,\n",
    "    100, 100,\n",
    "    1, 1,\n",
    "    6,\n",
    "    number_to_color\n",
    ")"
   ]
  }
 ],
 "metadata": {
  "kernelspec": {
   "display_name": "base",
   "language": "python",
   "name": "python3"
  },
  "language_info": {
   "codemirror_mode": {
    "name": "ipython",
    "version": 3
   },
   "file_extension": ".py",
   "mimetype": "text/x-python",
   "name": "python",
   "nbconvert_exporter": "python",
   "pygments_lexer": "ipython3",
   "version": "3.9.13"
  },
  "orig_nbformat": 4,
  "vscode": {
   "interpreter": {
    "hash": "40d3a090f54c6569ab1632332b64b2c03c39dcf918b08424e98f38b5ae0af88f"
   }
  }
 },
 "nbformat": 4,
 "nbformat_minor": 2
}
